{
 "cells": [
  {
   "cell_type": "code",
   "execution_count": 2,
   "id": "691f34e6-38d0-400c-a8c3-9097eb4468ca",
   "metadata": {},
   "outputs": [],
   "source": [
    "import pandas as pd \n",
    "import numpy as np\n",
    "import matplotlib.pyplot as plt \n",
    "%matplotlib inline"
   ]
  },
  {
   "cell_type": "code",
   "execution_count": 4,
   "id": "e2a5f250-d252-47ee-9969-71e94f3fd113",
   "metadata": {},
   "outputs": [],
   "source": [
    "df=pd.read_csv(r\"Downloads/homeprices_banglore.csv\")"
   ]
  },
  {
   "cell_type": "code",
   "execution_count": 6,
   "id": "6bd131eb-4e25-4af5-9c7f-f8fb564a0915",
   "metadata": {},
   "outputs": [
    {
     "data": {
      "text/html": [
       "<div>\n",
       "<style scoped>\n",
       "    .dataframe tbody tr th:only-of-type {\n",
       "        vertical-align: middle;\n",
       "    }\n",
       "\n",
       "    .dataframe tbody tr th {\n",
       "        vertical-align: top;\n",
       "    }\n",
       "\n",
       "    .dataframe thead th {\n",
       "        text-align: right;\n",
       "    }\n",
       "</style>\n",
       "<table border=\"1\" class=\"dataframe\">\n",
       "  <thead>\n",
       "    <tr style=\"text-align: right;\">\n",
       "      <th></th>\n",
       "      <th>area</th>\n",
       "      <th>bedrooms</th>\n",
       "      <th>price</th>\n",
       "    </tr>\n",
       "  </thead>\n",
       "  <tbody>\n",
       "    <tr>\n",
       "      <th>0</th>\n",
       "      <td>1056</td>\n",
       "      <td>2</td>\n",
       "      <td>39.07</td>\n",
       "    </tr>\n",
       "    <tr>\n",
       "      <th>1</th>\n",
       "      <td>2600</td>\n",
       "      <td>4</td>\n",
       "      <td>120.00</td>\n",
       "    </tr>\n",
       "    <tr>\n",
       "      <th>2</th>\n",
       "      <td>1440</td>\n",
       "      <td>3</td>\n",
       "      <td>62.00</td>\n",
       "    </tr>\n",
       "    <tr>\n",
       "      <th>3</th>\n",
       "      <td>1521</td>\n",
       "      <td>3</td>\n",
       "      <td>75.00</td>\n",
       "    </tr>\n",
       "    <tr>\n",
       "      <th>4</th>\n",
       "      <td>1200</td>\n",
       "      <td>2</td>\n",
       "      <td>51.00</td>\n",
       "    </tr>\n",
       "  </tbody>\n",
       "</table>\n",
       "</div>"
      ],
      "text/plain": [
       "   area  bedrooms   price\n",
       "0  1056         2   39.07\n",
       "1  2600         4  120.00\n",
       "2  1440         3   62.00\n",
       "3  1521         3   75.00\n",
       "4  1200         2   51.00"
      ]
     },
     "execution_count": 6,
     "metadata": {},
     "output_type": "execute_result"
    }
   ],
   "source": [
    "df.head()"
   ]
  },
  {
   "cell_type": "code",
   "execution_count": 32,
   "id": "27fe68d8-1dfe-473c-90c3-4f84619577f9",
   "metadata": {},
   "outputs": [
    {
     "data": {
      "text/plain": [
       "20"
      ]
     },
     "execution_count": 32,
     "metadata": {},
     "output_type": "execute_result"
    }
   ],
   "source": [
    "df.value_counts().sum()"
   ]
  },
  {
   "cell_type": "code",
   "execution_count": 8,
   "id": "cbee89fa-1aae-44b5-964c-eb81483790be",
   "metadata": {},
   "outputs": [],
   "source": [
    "#preprocessing and scaling \n",
    "from sklearn import preprocessing"
   ]
  },
  {
   "cell_type": "code",
   "execution_count": 10,
   "id": "81560459-2223-4779-b02d-30fe7d4c286c",
   "metadata": {},
   "outputs": [],
   "source": [
    "sx=preprocessing.MinMaxScaler()\n",
    "sy=preprocessing.MinMaxScaler()"
   ]
  },
  {
   "cell_type": "code",
   "execution_count": 16,
   "id": "ee948f25-759a-42ef-ab66-6e79de9a9809",
   "metadata": {},
   "outputs": [
    {
     "data": {
      "text/html": [
       "<div>\n",
       "<style scoped>\n",
       "    .dataframe tbody tr th:only-of-type {\n",
       "        vertical-align: middle;\n",
       "    }\n",
       "\n",
       "    .dataframe tbody tr th {\n",
       "        vertical-align: top;\n",
       "    }\n",
       "\n",
       "    .dataframe thead th {\n",
       "        text-align: right;\n",
       "    }\n",
       "</style>\n",
       "<table border=\"1\" class=\"dataframe\">\n",
       "  <thead>\n",
       "    <tr style=\"text-align: right;\">\n",
       "      <th></th>\n",
       "      <th>area</th>\n",
       "      <th>bedrooms</th>\n",
       "    </tr>\n",
       "  </thead>\n",
       "  <tbody>\n",
       "    <tr>\n",
       "      <th>0</th>\n",
       "      <td>1056</td>\n",
       "      <td>2</td>\n",
       "    </tr>\n",
       "    <tr>\n",
       "      <th>1</th>\n",
       "      <td>2600</td>\n",
       "      <td>4</td>\n",
       "    </tr>\n",
       "    <tr>\n",
       "      <th>2</th>\n",
       "      <td>1440</td>\n",
       "      <td>3</td>\n",
       "    </tr>\n",
       "    <tr>\n",
       "      <th>3</th>\n",
       "      <td>1521</td>\n",
       "      <td>3</td>\n",
       "    </tr>\n",
       "    <tr>\n",
       "      <th>4</th>\n",
       "      <td>1200</td>\n",
       "      <td>2</td>\n",
       "    </tr>\n",
       "  </tbody>\n",
       "</table>\n",
       "</div>"
      ],
      "text/plain": [
       "   area  bedrooms\n",
       "0  1056         2\n",
       "1  2600         4\n",
       "2  1440         3\n",
       "3  1521         3\n",
       "4  1200         2"
      ]
     },
     "execution_count": 16,
     "metadata": {},
     "output_type": "execute_result"
    }
   ],
   "source": [
    "y=df['price']\n",
    "X=df.drop('price',axis='columns')"
   ]
  },
  {
   "cell_type": "code",
   "execution_count": 18,
   "id": "2057e16a-6866-4f34-9907-2943307e4a39",
   "metadata": {},
   "outputs": [
    {
     "data": {
      "text/plain": [
       "0     39.07\n",
       "1    120.00\n",
       "2     62.00\n",
       "3     75.00\n",
       "4     51.00\n",
       "Name: price, dtype: float64"
      ]
     },
     "execution_count": 18,
     "metadata": {},
     "output_type": "execute_result"
    }
   ],
   "source": [
    "y.head()"
   ]
  },
  {
   "cell_type": "code",
   "execution_count": 20,
   "id": "e056ec49-df73-4503-95ce-94802b7563a2",
   "metadata": {},
   "outputs": [],
   "source": [
    "scaled_x=sx.fit_transform(X)"
   ]
  },
  {
   "cell_type": "code",
   "execution_count": 22,
   "id": "8d4c3e00-fbec-4d60-bd38-f82bf3c64476",
   "metadata": {},
   "outputs": [
    {
     "data": {
      "text/plain": [
       "array([[0.08827586, 0.25      ],\n",
       "       [0.62068966, 0.75      ],\n",
       "       [0.22068966, 0.5       ],\n",
       "       [0.24862069, 0.5       ],\n",
       "       [0.13793103, 0.25      ],\n",
       "       [0.12758621, 0.25      ],\n",
       "       [0.6662069 , 0.75      ],\n",
       "       [0.86206897, 0.75      ],\n",
       "       [0.17586207, 0.5       ],\n",
       "       [1.        , 1.        ],\n",
       "       [0.34482759, 0.5       ],\n",
       "       [0.68448276, 0.75      ],\n",
       "       [0.06896552, 0.25      ],\n",
       "       [0.10344828, 0.25      ],\n",
       "       [0.5       , 0.5       ],\n",
       "       [0.12931034, 0.25      ],\n",
       "       [0.13103448, 0.5       ],\n",
       "       [0.25517241, 0.5       ],\n",
       "       [0.67931034, 0.5       ],\n",
       "       [0.        , 0.        ]])"
      ]
     },
     "execution_count": 22,
     "metadata": {},
     "output_type": "execute_result"
    }
   ],
   "source": [
    "scaled_x"
   ]
  },
  {
   "cell_type": "code",
   "execution_count": 26,
   "id": "798725d3-c38b-43da-8568-7bc8008afe03",
   "metadata": {},
   "outputs": [
    {
     "data": {
      "text/plain": [
       "array([[0.05237037],\n",
       "       [0.65185185],\n",
       "       [0.22222222],\n",
       "       [0.31851852],\n",
       "       [0.14074074],\n",
       "       [0.04444444],\n",
       "       [0.76296296],\n",
       "       [0.91111111],\n",
       "       [0.13333333],\n",
       "       [1.        ],\n",
       "       [0.37037037],\n",
       "       [0.8       ],\n",
       "       [0.04444444],\n",
       "       [0.05925926],\n",
       "       [0.51111111],\n",
       "       [0.07407407],\n",
       "       [0.11851852],\n",
       "       [0.20740741],\n",
       "       [0.51851852],\n",
       "       [0.        ]])"
      ]
     },
     "execution_count": 26,
     "metadata": {},
     "output_type": "execute_result"
    }
   ],
   "source": [
    "scaled_y=sy.fit_transform(y.values.reshape(df.shape[0],1))\n",
    "scaled_y"
   ]
  },
  {
   "cell_type": "code",
   "execution_count": 28,
   "id": "7afdc287-c618-44b5-87f2-9917a4a3db4c",
   "metadata": {},
   "outputs": [
    {
     "data": {
      "text/plain": [
       "array([0.05237037, 0.65185185, 0.22222222, 0.31851852, 0.14074074,\n",
       "       0.04444444, 0.76296296, 0.91111111, 0.13333333, 1.        ,\n",
       "       0.37037037, 0.8       , 0.04444444, 0.05925926, 0.51111111,\n",
       "       0.07407407, 0.11851852, 0.20740741, 0.51851852, 0.        ])"
      ]
     },
     "execution_count": 28,
     "metadata": {},
     "output_type": "execute_result"
    }
   ],
   "source": [
    "scaled_y.reshape(20,)"
   ]
  },
  {
   "cell_type": "code",
   "execution_count": 34,
   "id": "2de23e15-b01a-4d4c-b87c-fc71a771a4b0",
   "metadata": {},
   "outputs": [
    {
     "data": {
      "text/plain": [
       "array([ 7, 14,  0,  4,  2,  3, 10,  9, 19, 18,  5,  1, 15, 11, 13,  6, 16,\n",
       "       12,  8, 17])"
      ]
     },
     "execution_count": 34,
     "metadata": {},
     "output_type": "execute_result"
    }
   ],
   "source": [
    "np.random.permutation(20)"
   ]
  },
  {
   "cell_type": "code",
   "execution_count": 110,
   "id": "0378f931-5ac3-45fd-ac71-af33482e183e",
   "metadata": {},
   "outputs": [
    {
     "data": {
      "text/plain": [
       "(array([0.84160557, 0.30337548]), -0.09695847201924576, 0.003889550369362488)"
      ]
     },
     "execution_count": 110,
     "metadata": {},
     "output_type": "execute_result"
    }
   ],
   "source": [
    "def minibatch_grad(X,y_true,epochs,batch_size,learning_rate=0.1):\n",
    "    number_of_features=X.shape[1]\n",
    "    w=np.ones(shape=(number_of_features))\n",
    "    b=0\n",
    "    total_samples=X.shape[0]\n",
    "    if batch_size > total_samples:\n",
    "        batch_size=total_samples\n",
    "\n",
    "    num_batches =int(total_samples/batch_size)\n",
    "    \n",
    "    cost_list=[]\n",
    "    epoch_list=[]\n",
    "    \n",
    "    for i in range(epochs):\n",
    "        random_indices=np.random.permutation(total_samples)\n",
    "        X_tmp=X[random_indices]\n",
    "        y_tmp=y_true[random_indices]\n",
    "        for j in range(0,total_samples,batch_size):\n",
    "            Xj=X_tmp[j:j+batch_size]\n",
    "            yj=y_tmp[j:j+batch_size]\n",
    "            y_predicted=np.dot(w,Xj.T)+b\n",
    "\n",
    "            w_grad=-(2/len(Xj))*(Xj.T.dot(yj-y_predicted))\n",
    "            b_grad = -(2/len(Xj))*np.sum(yj-y_predicted)\n",
    "\n",
    "            w=w-learning_rate*w_grad\n",
    "            b=b-learning_rate*b_grad\n",
    "\n",
    "            cost=np.mean(np.square(yj-y_predicted)) \n",
    "        if i%10==0:\n",
    "            cost_list.append(cost)\n",
    "            epoch_list.append(i)\n",
    "\n",
    "    return w,b,cost,cost_list,epoch_list\n",
    "\n",
    "w,b,cost,cost_list,epoch_list=minibatch_grad(\n",
    "    scaled_x,\n",
    "    scaled_y.reshape(scaled_y.shape[0],),\n",
    "    epochs=250,\n",
    "    batch_size=5\n",
    ")\n",
    "w,b,cost"
   ]
  },
  {
   "cell_type": "code",
   "execution_count": 112,
   "id": "e646a144-8557-4300-8c7a-58feab4f8fd3",
   "metadata": {},
   "outputs": [
    {
     "data": {
      "text/plain": [
       "[<matplotlib.lines.Line2D at 0x1fc6bb15550>]"
      ]
     },
     "execution_count": 112,
     "metadata": {},
     "output_type": "execute_result"
    },
    {
     "data": {
      "image/png": "[encoded data removed]",
      "text/plain": [
       "<Figure size 640x480 with 1 Axes>"
      ]
     },
     "metadata": {},
     "output_type": "display_data"
    }
   ],
   "source": [
    "plt.xlabel(\"epoch\")\n",
    "plt.ylabel(\"cost\")\n",
    "plt.plot(epoch_list,cost_list)"
   ]
  },
  {
   "cell_type": "code",
   "execution_count": 114,
   "id": "b7f63805-d489-410e-b227-cae8b8f5870d",
   "metadata": {},
   "outputs": [
    {
     "name": "stderr",
     "output_type": "stream",
     "text": [
      "C:\\Users\\DELL\\anaconda3\\Lib\\site-packages\\sklearn\\base.py:493: UserWarning: X does not have valid feature names, but MinMaxScaler was fitted with feature names\n",
      "  warnings.warn(\n"
     ]
    },
    {
     "data": {
      "text/plain": [
       "120.1481161010511"
      ]
     },
     "execution_count": 114,
     "metadata": {},
     "output_type": "execute_result"
    }
   ],
   "source": [
    "def predict(area,bedrooms,w,b):\n",
    "    scaled_x = sx.transform([[area, bedrooms]])[0]\n",
    "    # here w1 = w[0] , w2 = w[1], w3 = w[2] and bias is b\n",
    "    # equation for price is w1*area + w2*bedrooms + w3*age + bias\n",
    "    # scaled_X[0] is area\n",
    "    # scaled_X[1] is bedrooms\n",
    "    # scaled_X[2] is age\n",
    "    scaled_price = w[0] * scaled_x[0] + w[1] * scaled_x[1] + b\n",
    "    # once we get price prediction we need to to rescal it back to original value\n",
    "    # also since it returns 2D array, to get single value we need to do value[0][0]\n",
    "    return sy.inverse_transform([[scaled_price]])[0][0]\n",
    "\n",
    "predict(2600,4,w,b)"
   ]
  },
  {
   "cell_type": "code",
   "execution_count": 144,
   "id": "d382ee63-4bad-4f9e-8fda-9fc71935c2e8",
   "metadata": {},
   "outputs": [],
   "source": [
    "def minibatch_2(X,y_true,epochs,batch_size,learning_rate=0.001):\n",
    "    #intialization\n",
    "    number_of_features=X.shape[1]\n",
    "    w=np.ones(shape=number_of_features)\n",
    "    b=0\n",
    "    #batch_size adjustment\n",
    "    total_samples=X.shape[0]\n",
    "    if batch_size>total_samples:\n",
    "        batch_size=total_samples\n",
    "\n",
    "    #number of batches\n",
    "    num_batches=int(total_samples/batch_size)\n",
    "    #tracking matrics\n",
    "    cost_list=[]\n",
    "    epoch_list=[]\n",
    "    #training looop\n",
    "    for i in range(epochs):\n",
    "        #shuffling data\n",
    "        random_indices=np.random.permutation(total_samples)\n",
    "        X_tmp=X[random_indices]\n",
    "        y_tmp=y_true[random_indices]\n",
    "        #split data into Xj,yj for gradient computation\n",
    "        for j in range(0,total_samples,batch_size):\n",
    "            Xj=X_tmp[j:j+batch_size]\n",
    "            yj=y_tmp[j:j+batch_size]\n",
    "            #forwards pass \n",
    "            y_predicted=np.dot(w,Xj.T)+b\n",
    "            #gradient computation\n",
    "            w_grad=-(2/len(Xj))*(Xj.T.dot(yj-y_predicted))\n",
    "            b_grad=-(2/len(Xj))*np.sum(yj-y_predicted)\n",
    "            #parameter adjustmen \n",
    "            w=w-learning_rate*w_grad\n",
    "            b=b-learning_rate*b_grad\n",
    "            #cost calculation \n",
    "            cost=np.mean(np.square(yj-y_predicted))\n",
    "            #logging materics\n",
    "            if i%10==0:\n",
    "                cost_list.append(cost)\n",
    "                epoch_list.append(i)\n",
    "\n",
    "    return w,b,cost,cost_list,epoch_list"
   ]
  },
  {
   "cell_type": "code",
   "execution_count": 146,
   "id": "2732f367-357a-450d-a858-23b462a24fb2",
   "metadata": {},
   "outputs": [
    {
     "data": {
      "text/plain": [
       "(array([0.71040475, 0.67839824]), -0.23362674272201464, 0.016075137468627286)"
      ]
     },
     "execution_count": 146,
     "metadata": {},
     "output_type": "execute_result"
    }
   ],
   "source": [
    "w,b,cost,cost_list,epoch_list=minibatch_2(\n",
    "    scaled_x,\n",
    "    scaled_y.reshape(scaled_y.shape[0],),\n",
    "    epochs=1200,\n",
    "    batch_size=5\n",
    ")\n",
    "w,b,cost"
   ]
  },
  {
   "cell_type": "code",
   "execution_count": 148,
   "id": "1b23168e-683b-4f45-a0c8-22acdcb291ed",
   "metadata": {},
   "outputs": [
    {
     "data": {
      "text/plain": [
       "[<matplotlib.lines.Line2D at 0x1fc6c22d910>]"
      ]
     },
     "execution_count": 148,
     "metadata": {},
     "output_type": "execute_result"
    },
    {
     "data": {
      "image/png": "[encoded data removed]",
      "text/plain": [
       "<Figure size 640x480 with 1 Axes>"
      ]
     },
     "metadata": {},
     "output_type": "display_data"
    }
   ],
   "source": [
    "plt.xlabel(\"epoch\")\n",
    "plt.ylabel(\"cost\")\n",
    "plt.plot(epoch_list,cost_list)"
   ]
  },
  {
   "cell_type": "code",
   "execution_count": 150,
   "id": "aacebe70-08bd-4148-ad2f-0cd2091f61d2",
   "metadata": {},
   "outputs": [
    {
     "name": "stderr",
     "output_type": "stream",
     "text": [
      "C:\\Users\\DELL\\anaconda3\\Lib\\site-packages\\sklearn\\base.py:493: UserWarning: X does not have valid feature names, but MinMaxScaler was fitted with feature names\n",
      "  warnings.warn(\n"
     ]
    },
    {
     "data": {
      "text/plain": [
       "128.67523026445113"
      ]
     },
     "execution_count": 150,
     "metadata": {},
     "output_type": "execute_result"
    }
   ],
   "source": [
    "def predict(area,bedrooms,w,b):\n",
    "    scaled_x = sx.transform([[area, bedrooms]])[0]\n",
    "    # here w1 = w[0] , w2 = w[1], w3 = w[2] and bias is b\n",
    "    # equation for price is w1*area + w2*bedrooms + w3*age + bias\n",
    "    # scaled_X[0] is area\n",
    "    # scaled_X[1] is bedrooms\n",
    "    # scaled_X[2] is age\n",
    "    scaled_price = w[0] * scaled_x[0] + w[1] * scaled_x[1] + b\n",
    "    # once we get price prediction we need to to rescal it back to original value\n",
    "    # also since it returns 2D array, to get single value we need to do value[0][0]\n",
    "    return sy.inverse_transform([[scaled_price]])[0][0]\n",
    "\n",
    "predict(2600,4,w,b)"
   ]
  },
  {
   "cell_type": "code",
   "execution_count": 182,
   "id": "81413221-6a6f-4e21-bb9c-5d4cb0c5aa00",
   "metadata": {},
   "outputs": [],
   "source": [
    "def minibatch_3(X,y_true,batch_size,epochs,learning_rate=0.01):\n",
    "    #initialize \n",
    "    number_of_features=X.shape[1]\n",
    "    w=np.ones(shape=number_of_features)\n",
    "    b=0\n",
    "    #batch size adjustement\n",
    "    number_of_samples=X.shape[0]\n",
    "    if batch_size>number_of_samples:\n",
    "        batch_size=number_of_samples\n",
    "    #number of batches\n",
    "    num_batches=int(number_of_samples/batch_size)\n",
    "    #tracking metrics\n",
    "    cost_list=[]\n",
    "    epoch_list=[]\n",
    "    #training loop\n",
    "    if i in range(epochs):\n",
    "        #forward pass\n",
    "        yhat=np.dot(w,Xj.T)+b\n",
    "        #gradients \n",
    "        w_grad=-(2/len(Xj))*np.dot(Xj.t,(yj-yhat))\n",
    "        b_grad=-(2/len(Xj))*np.sum(yj-yhat)\n",
    "        #parameter adjustments \n",
    "        w=w-learning_rate*w_grad\n",
    "        b=b-learning_rate*b_grad      \n",
    "        #metrics logging\n",
    "        cost=np.mean(np.square(y-yhat))\n",
    "        #updatind lsits\n",
    "        if i%50==0:\n",
    "            cost_list.append(cost)\n",
    "            epoch_list.append(i)\n",
    "    return w,b,cost,cost_list,epoch_list\n",
    "    print(random_indices,X_tmp,y_tmp,number_of_batches,yhat,w_grad,b_grad,w,b,cost)\n"
   ]
  },
  {
   "cell_type": "code",
   "execution_count": 184,
   "id": "0a7f9432-b4d8-4ce8-ac8f-326dcdc34a72",
   "metadata": {},
   "outputs": [
    {
     "data": {
      "text/plain": [
       "(array([0.96013485, 0.95100438]), -0.08363395686623358, 0.04187758585048798)"
      ]
     },
     "execution_count": 184,
     "metadata": {},
     "output_type": "execute_result"
    }
   ],
   "source": [
    "w,b,cost,cost_list,epoch_list=minibatch_2(\n",
    "    scaled_x,\n",
    "    scaled_y.reshape(scaled_y.shape[0]),\n",
    "    5,\n",
    "    1\n",
    ")\n",
    "w,b,cost"
   ]
  },
  {
   "cell_type": "code",
   "execution_count": 188,
   "id": "d5706759-25c9-4c6b-af27-6dfb3adb1a7e",
   "metadata": {},
   "outputs": [
    {
     "data": {
      "text/plain": [
       "[<matplotlib.lines.Line2D at 0x1fc6c28be60>]"
      ]
     },
     "execution_count": 188,
     "metadata": {},
     "output_type": "execute_result"
    },
    {
     "data": {
      "image/png": "[encoded data removed]",
      "text/plain": [
       "<Figure size 640x480 with 1 Axes>"
      ]
     },
     "metadata": {},
     "output_type": "display_data"
    }
   ],
   "source": [
    "plt.xlabel(\"epoch\")\n",
    "plt.ylabel(\"cost\")\n",
    "plt.plot(epoch_list,cost_list)"
   ]
  },
  {
   "cell_type": "code",
   "execution_count": 186,
   "id": "fb693ebf-d048-4268-a57d-24c2d6de865c",
   "metadata": {},
   "outputs": [
    {
     "name": "stderr",
     "output_type": "stream",
     "text": [
      "C:\\Users\\DELL\\anaconda3\\Lib\\site-packages\\sklearn\\base.py:493: UserWarning: X does not have valid feature names, but MinMaxScaler was fitted with feature names\n",
      "  warnings.warn(\n"
     ]
    },
    {
     "data": {
      "text/plain": [
       "197.45128860159258"
      ]
     },
     "execution_count": 186,
     "metadata": {},
     "output_type": "execute_result"
    }
   ],
   "source": [
    "def predict(area,bedrooms,w,b):\n",
    "    scaled_x = sx.transform([[area, bedrooms]])[0]\n",
    "    # here w1 = w[0] , w2 = w[1], w3 = w[2] and bias is b\n",
    "    # equation for price is w1*area + w2*bedrooms + w3*age + bias\n",
    "    # scaled_X[0] is area\n",
    "    # scaled_X[1] is bedrooms\n",
    "    # scaled_X[2] is age\n",
    "    scaled_price = w[0] * scaled_x[0] + w[1] * scaled_x[1] + b\n",
    "    # once we get price prediction we need to to rescal it back to original value\n",
    "    # also since it returns 2D array, to get single value we need to do value[0][0]\n",
    "    return sy.inverse_transform([[scaled_price]])[0][0]\n",
    "\n",
    "predict(2600,4,w,b)"
   ]
  },
  {
   "cell_type": "code",
   "execution_count": 206,
   "id": "4d21afa1-09f2-4eef-8a7e-6c2251a5a0f8",
   "metadata": {},
   "outputs": [],
   "source": [
    "def gradient_descent(X,y_true,epochs,learning_rate=0.001):\n",
    "    #initializ\n",
    "    number_of_features=X.shape[1]\n",
    "    w=np.ones(shape=number_of_features)\n",
    "    b=0\n",
    "    #tracking metrics\n",
    "    epoch_list=[]\n",
    "    cost_list=[]\n",
    "    for i in range(epochs):\n",
    "        yhat=np.dot(w,X.T)+b\n",
    "        #gradient\n",
    "        w_grad=-(2/len(X))*(X.T.dot(y_true-yhat))\n",
    "        b_grad=-(2/len(X))*np.sum(y_true-yhat)\n",
    "        #adjustment\n",
    "        w=w-learning_rate*w_grad\n",
    "        b=b-learning_rate*b_grad\n",
    "        #metrics logging\n",
    "        cost=np.mean(np.square(y_true-yhat))\n",
    "        if i%50==0:\n",
    "            cost_list.append(cost)\n",
    "            epoch_list.append(i)\n",
    "\n",
    "    return w,b,cost,cost_list,epoch_list"
   ]
  },
  {
   "cell_type": "code",
   "execution_count": 218,
   "id": "97591e32-2bcf-4df3-a236-842d86072c64",
   "metadata": {},
   "outputs": [
    {
     "data": {
      "text/plain": [
       "(array([0.66475517, 0.60546292]), -0.17797042383006412, 0.004865057599444814)"
      ]
     },
     "execution_count": 218,
     "metadata": {},
     "output_type": "execute_result"
    }
   ],
   "source": [
    "w,b,cost,cost_list,epoch_list=gradient_descent(\n",
    "    scaled_x,\n",
    "    scaled_y.reshape(scaled_y.shape[0]),\n",
    "    10000\n",
    ")\n",
    "w,b,cost"
   ]
  },
  {
   "cell_type": "code",
   "execution_count": 220,
   "id": "7c2dfdac-fcf7-4136-806d-7eb7d6c7c0bd",
   "metadata": {},
   "outputs": [
    {
     "data": {
      "text/plain": [
       "[<matplotlib.lines.Line2D at 0x1fc6c3b8140>]"
      ]
     },
     "execution_count": 220,
     "metadata": {},
     "output_type": "execute_result"
    },
    {
     "data": {
      "image/png": "[encoded data removed]",
      "text/plain": [
       "<Figure size 640x480 with 1 Axes>"
      ]
     },
     "metadata": {},
     "output_type": "display_data"
    }
   ],
   "source": [
    "plt.xlabel(\"epoch\")\n",
    "plt.ylabel(\"cost\")\n",
    "plt.plot(epoch_list,cost_list)"
   ]
  },
  {
   "cell_type": "code",
   "execution_count": 222,
   "id": "6c919bdc-369d-4b74-b56d-717aacb752b7",
   "metadata": {},
   "outputs": [
    {
     "data": {
      "text/plain": [
       "[0,\n",
       " 50,\n",
       " 100,\n",
       " 150,\n",
       " 200,\n",
       " 250,\n",
       " 300,\n",
       " 350,\n",
       " 400,\n",
       " 450,\n",
       " 500,\n",
       " 550,\n",
       " 600,\n",
       " 650,\n",
       " 700,\n",
       " 750,\n",
       " 800,\n",
       " 850,\n",
       " 900,\n",
       " 950,\n",
       " 1000,\n",
       " 1050,\n",
       " 1100,\n",
       " 1150,\n",
       " 1200,\n",
       " 1250,\n",
       " 1300,\n",
       " 1350,\n",
       " 1400,\n",
       " 1450,\n",
       " 1500,\n",
       " 1550,\n",
       " 1600,\n",
       " 1650,\n",
       " 1700,\n",
       " 1750,\n",
       " 1800,\n",
       " 1850,\n",
       " 1900,\n",
       " 1950,\n",
       " 2000,\n",
       " 2050,\n",
       " 2100,\n",
       " 2150,\n",
       " 2200,\n",
       " 2250,\n",
       " 2300,\n",
       " 2350,\n",
       " 2400,\n",
       " 2450,\n",
       " 2500,\n",
       " 2550,\n",
       " 2600,\n",
       " 2650,\n",
       " 2700,\n",
       " 2750,\n",
       " 2800,\n",
       " 2850,\n",
       " 2900,\n",
       " 2950,\n",
       " 3000,\n",
       " 3050,\n",
       " 3100,\n",
       " 3150,\n",
       " 3200,\n",
       " 3250,\n",
       " 3300,\n",
       " 3350,\n",
       " 3400,\n",
       " 3450,\n",
       " 3500,\n",
       " 3550,\n",
       " 3600,\n",
       " 3650,\n",
       " 3700,\n",
       " 3750,\n",
       " 3800,\n",
       " 3850,\n",
       " 3900,\n",
       " 3950,\n",
       " 4000,\n",
       " 4050,\n",
       " 4100,\n",
       " 4150,\n",
       " 4200,\n",
       " 4250,\n",
       " 4300,\n",
       " 4350,\n",
       " 4400,\n",
       " 4450,\n",
       " 4500,\n",
       " 4550,\n",
       " 4600,\n",
       " 4650,\n",
       " 4700,\n",
       " 4750,\n",
       " 4800,\n",
       " 4850,\n",
       " 4900,\n",
       " 4950,\n",
       " 5000,\n",
       " 5050,\n",
       " 5100,\n",
       " 5150,\n",
       " 5200,\n",
       " 5250,\n",
       " 5300,\n",
       " 5350,\n",
       " 5400,\n",
       " 5450,\n",
       " 5500,\n",
       " 5550,\n",
       " 5600,\n",
       " 5650,\n",
       " 5700,\n",
       " 5750,\n",
       " 5800,\n",
       " 5850,\n",
       " 5900,\n",
       " 5950,\n",
       " 6000,\n",
       " 6050,\n",
       " 6100,\n",
       " 6150,\n",
       " 6200,\n",
       " 6250,\n",
       " 6300,\n",
       " 6350,\n",
       " 6400,\n",
       " 6450,\n",
       " 6500,\n",
       " 6550,\n",
       " 6600,\n",
       " 6650,\n",
       " 6700,\n",
       " 6750,\n",
       " 6800,\n",
       " 6850,\n",
       " 6900,\n",
       " 6950,\n",
       " 7000,\n",
       " 7050,\n",
       " 7100,\n",
       " 7150,\n",
       " 7200,\n",
       " 7250,\n",
       " 7300,\n",
       " 7350,\n",
       " 7400,\n",
       " 7450,\n",
       " 7500,\n",
       " 7550,\n",
       " 7600,\n",
       " 7650,\n",
       " 7700,\n",
       " 7750,\n",
       " 7800,\n",
       " 7850,\n",
       " 7900,\n",
       " 7950,\n",
       " 8000,\n",
       " 8050,\n",
       " 8100,\n",
       " 8150,\n",
       " 8200,\n",
       " 8250,\n",
       " 8300,\n",
       " 8350,\n",
       " 8400,\n",
       " 8450,\n",
       " 8500,\n",
       " 8550,\n",
       " 8600,\n",
       " 8650,\n",
       " 8700,\n",
       " 8750,\n",
       " 8800,\n",
       " 8850,\n",
       " 8900,\n",
       " 8950,\n",
       " 9000,\n",
       " 9050,\n",
       " 9100,\n",
       " 9150,\n",
       " 9200,\n",
       " 9250,\n",
       " 9300,\n",
       " 9350,\n",
       " 9400,\n",
       " 9450,\n",
       " 9500,\n",
       " 9550,\n",
       " 9600,\n",
       " 9650,\n",
       " 9700,\n",
       " 9750,\n",
       " 9800,\n",
       " 9850,\n",
       " 9900,\n",
       " 9950]"
      ]
     },
     "execution_count": 222,
     "metadata": {},
     "output_type": "execute_result"
    }
   ],
   "source": [
    "epoch_list"
   ]
  },
  {
   "cell_type": "code",
   "execution_count": null,
   "id": "b1539df4-c972-41ea-82ca-56a4f27b9ed3",
   "metadata": {},
   "outputs": [],
   "source": []
  }
 ],
 "metadata": {
  "kernelspec": {
   "display_name": "Python 3 (ipykernel)",
   "language": "python",
   "name": "python3"
  },
  "language_info": {
   "codemirror_mode": {
    "name": "ipython",
    "version": 3
   },
   "file_extension": ".py",
   "mimetype": "text/x-python",
   "name": "python",
   "nbconvert_exporter": "python",
   "pygments_lexer": "ipython3",
   "version": "3.12.3"
  }
 },
 "nbformat": 4,
 "nbformat_minor": 5
}
